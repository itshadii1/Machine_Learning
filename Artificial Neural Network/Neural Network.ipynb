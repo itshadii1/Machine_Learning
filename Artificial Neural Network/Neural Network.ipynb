{
 "cells": [
  {
   "cell_type": "code",
   "execution_count": 1,
   "metadata": {
    "colab": {
     "base_uri": "https://localhost:8080/"
    },
    "executionInfo": {
     "elapsed": 30,
     "status": "ok",
     "timestamp": 1749361089958,
     "user": {
      "displayName": "mohammad ahmad raza khan | AP22110010453",
      "userId": "02092888522039743913"
     },
     "user_tz": -330
    },
    "id": "AMeVW-m5C9lg",
    "outputId": "13898349-d975-47ad-8875-d124e238e500"
   },
   "outputs": [
    {
     "name": "stdout",
     "output_type": "stream",
     "text": [
      "TensorFlow version: 2.19.0\n",
      "keras module: <KerasLazyLoader>\n",
      "\n",
      "Function explanations:\n",
      "- keras.datasets.mnist.load_data(): Loads the MNIST handwritten digits dataset, returning train and test splits.\n",
      "- astype(): Converts array to a specified type (e.g., float32).\n",
      "- reshape(): Changes the shape of an array without altering its data.\n",
      "- keras.Sequential: A container to stack layers into a model.\n",
      "- Dense: A fully connected neural network layer.\n",
      "- compile(): Configures the model for training (optimizer, loss, metrics).\n",
      "- fit(): Trains the model for a specified number of epochs.\n",
      "- evaluate(): Computes loss and metrics on test data.\n",
      "\n"
     ]
    }
   ],
   "source": [
    "# Cell 1: Imports and Versions\n",
    "import tensorflow as tf\n",
    "from tensorflow import keras\n",
    "import numpy as np\n",
    "import matplotlib.pyplot as plt\n",
    "\n",
    "print(\"TensorFlow version:\", tf.__version__)\n",
    "print(\"keras module:\", keras)\n",
    "\n",
    "print(\"\\nFunction explanations:\")\n",
    "print(\"- keras.datasets.mnist.load_data(): Loads the MNIST handwritten digits dataset, returning train and test splits.\")\n",
    "print(\"- astype(): Converts array to a specified type (e.g., float32).\")\n",
    "print(\"- reshape(): Changes the shape of an array without altering its data.\")\n",
    "print(\"- keras.Sequential: A container to stack layers into a model.\")\n",
    "print(\"- Dense: A fully connected neural network layer.\")\n",
    "print(\"- compile(): Configures the model for training (optimizer, loss, metrics).\")\n",
    "print(\"- fit(): Trains the model for a specified number of epochs.\")\n",
    "print(\"- evaluate(): Computes loss and metrics on test data.\\n\")"
   ]
  },
  {
   "cell_type": "code",
   "execution_count": 10,
   "metadata": {
    "colab": {
     "base_uri": "https://localhost:8080/"
    },
    "executionInfo": {
     "elapsed": 836,
     "status": "ok",
     "timestamp": 1749361201355,
     "user": {
      "displayName": "mohammad ahmad raza khan | AP22110010453",
      "userId": "02092888522039743913"
     },
     "user_tz": -330
    },
    "id": "ui_JXy7TC_m8",
    "outputId": "1b136474-11de-43aa-f615-3c4232ed3cbe"
   },
   "outputs": [
    {
     "name": "stdout",
     "output_type": "stream",
     "text": [
      "📦 MNIST Dataset Loaded Successfully\n",
      "\n",
      "🔹 x_train:\n",
      "  Shape: (60000, 28, 28)\n",
      "  → Training images: 60,000 grayscale images of 28x28 pixels each.\n",
      "\n",
      "🔹 y_train:\n",
      "  Shape: (60000,)\n",
      "  → Training labels: One label per training image (digits 0–9).\n",
      "\n",
      "🔹 x_test:\n",
      "  Shape: (10000, 28, 28)\n",
      "  → Test images: 10,000 grayscale images of 28x28 pixels each.\n",
      "\n",
      "🔹 y_test:\n",
      "  Shape: (10000,)\n",
      "  → Test labels: One label per test image (digits 0–9).\n",
      "\n",
      "✅ Summary:\n",
      "  - x_train: Training images\n",
      "  - y_train: Labels for training images\n",
      "  - x_test : Test images (for evaluation)\n",
      "  - y_test : Labels for test images\n"
     ]
    }
   ],
   "source": [
    "from tensorflow import keras\n",
    "\n",
    "# Load the MNIST dataset\n",
    "(x_train, y_train), (x_test, y_test) = keras.datasets.mnist.load_data()\n",
    "\n",
    "# Detailed printing of dataset structure and meanings\n",
    "print(\"📦 MNIST Dataset Loaded Successfully\\n\")\n",
    "\n",
    "print(\"🔹 x_train:\")\n",
    "print(f\"  Shape: {x_train.shape}\")\n",
    "print(\"  → Training images: 60,000 grayscale images of 28x28 pixels each.\")\n",
    "\n",
    "print(\"\\n🔹 y_train:\")\n",
    "print(f\"  Shape: {y_train.shape}\")\n",
    "print(\"  → Training labels: One label per training image (digits 0–9).\")\n",
    "\n",
    "print(\"\\n🔹 x_test:\")\n",
    "print(f\"  Shape: {x_test.shape}\")\n",
    "print(\"  → Test images: 10,000 grayscale images of 28x28 pixels each.\")\n",
    "\n",
    "print(\"\\n🔹 y_test:\")\n",
    "print(f\"  Shape: {y_test.shape}\")\n",
    "print(\"  → Test labels: One label per test image (digits 0–9).\")\n",
    "\n",
    "print(\"\\n✅ Summary:\")\n",
    "print(\"  - x_train: Training images\")\n",
    "print(\"  - y_train: Labels for training images\")\n",
    "print(\"  - x_test : Test images (for evaluation)\")\n",
    "print(\"  - y_test : Labels for test images\")"
   ]
  },
  {
   "cell_type": "code",
   "execution_count": 11,
   "metadata": {
    "colab": {
     "base_uri": "https://localhost:8080/",
     "height": 298
    },
    "executionInfo": {
     "elapsed": 1059,
     "status": "ok",
     "timestamp": 1749361213857,
     "user": {
      "displayName": "mohammad ahmad raza khan | AP22110010453",
      "userId": "02092888522039743913"
     },
     "user_tz": -330
    },
    "id": "hwl6CyEZDbeu",
    "outputId": "63e33ce6-e03b-406c-c34a-85175848d261"
   },
   "outputs": [
    {
     "data": {
      "image/png": "[encoded data removed]",
      "text/plain": [
       "<Figure size 800x300 with 6 Axes>"
      ]
     },
     "metadata": {},
     "output_type": "display_data"
    }
   ],
   "source": [
    "# Display first 6 training images\n",
    "plt.figure(figsize=(8, 3))\n",
    "for i in range(6):\n",
    "    plt.subplot(2, 3, i + 1)\n",
    "    plt.imshow(x_train[i], cmap='gray')\n",
    "    plt.title(f\"Label: {y_train[i]}\")\n",
    "    plt.axis('off')\n",
    "plt.suptitle(\"Sample MNIST Digits\")\n",
    "plt.show()"
   ]
  },
  {
   "cell_type": "code",
   "execution_count": 12,
   "metadata": {
    "colab": {
     "base_uri": "https://localhost:8080/"
    },
    "executionInfo": {
     "elapsed": 325,
     "status": "ok",
     "timestamp": 1749361225837,
     "user": {
      "displayName": "mohammad ahmad raza khan | AP22110010453",
      "userId": "02092888522039743913"
     },
     "user_tz": -330
    },
    "id": "6UTKD7HlDesb",
    "outputId": "8e8c87ae-fc3c-4d92-d142-7efb4e59f4cf"
   },
   "outputs": [
    {
     "name": "stdout",
     "output_type": "stream",
     "text": [
      "After preprocessing:\n",
      "x_train shape: (60000, 784)\n",
      "x_test  shape: (10000, 784)\n"
     ]
    }
   ],
   "source": [
    "# Cell 3: Preprocessing\n",
    "# Scale pixel values from [0,255] -> [0,1]\n",
    "x_train = x_train.astype(\"float32\") / 255.0\n",
    "x_test  = x_test.astype(\"float32\")  / 255.0\n",
    "# Flatten images to vectors of length 784\n",
    "x_train = x_train.reshape(-1, 784)\n",
    "x_test  = x_test.reshape(-1, 784)\n",
    "\n",
    "print(\"After preprocessing:\")\n",
    "print(\"x_train shape:\", x_train.shape)\n",
    "print(\"x_test  shape:\", x_test.shape)"
   ]
  },
  {
   "cell_type": "code",
   "execution_count": 18,
   "metadata": {
    "colab": {
     "base_uri": "https://localhost:8080/",
     "height": 260
    },
    "executionInfo": {
     "elapsed": 326,
     "status": "ok",
     "timestamp": 1749361237669,
     "user": {
      "displayName": "mohammad ahmad raza khan | AP22110010453",
      "userId": "02092888522039743913"
     },
     "user_tz": -330
    },
    "id": "oGXdmm2ZDhaL",
    "outputId": "c1a689d0-badb-49b3-e318-928fef6d0ef9"
   },
   "outputs": [
    {
     "name": "stdout",
     "output_type": "stream",
     "text": [
      "\n",
      "Model architecture summary:\n"
     ]
    },
    {
     "data": {
      "text/html": [
       "<pre style=\"white-space:pre;overflow-x:auto;line-height:normal;font-family:Menlo,'DejaVu Sans Mono',consolas,'Courier New',monospace\"><span style=\"font-weight: bold\">Model: \"sequential_2\"</span>\n",
       "</pre>\n"
      ],
      "text/plain": [
       "\u001b[1mModel: \"sequential_2\"\u001b[0m\n"
      ]
     },
     "metadata": {},
     "output_type": "display_data"
    },
    {
     "data": {
      "text/html": [
       "<pre style=\"white-space:pre;overflow-x:auto;line-height:normal;font-family:Menlo,'DejaVu Sans Mono',consolas,'Courier New',monospace\">┏━━━━━━━━━━━━━━━━━━━━━━━━━━━━━━━━━┳━━━━━━━━━━━━━━━━━━━━━━━━┳━━━━━━━━━━━━━━━┓\n",
       "┃<span style=\"font-weight: bold\"> Layer (type)                    </span>┃<span style=\"font-weight: bold\"> Output Shape           </span>┃<span style=\"font-weight: bold\">       Param # </span>┃\n",
       "┡━━━━━━━━━━━━━━━━━━━━━━━━━━━━━━━━━╇━━━━━━━━━━━━━━━━━━━━━━━━╇━━━━━━━━━━━━━━━┩\n",
       "│ dense_6 (<span style=\"color: #0087ff; text-decoration-color: #0087ff\">Dense</span>)                 │ (<span style=\"color: #00d7ff; text-decoration-color: #00d7ff\">None</span>, <span style=\"color: #00af00; text-decoration-color: #00af00\">128</span>)            │       <span style=\"color: #00af00; text-decoration-color: #00af00\">100,480</span> │\n",
       "├─────────────────────────────────┼────────────────────────┼───────────────┤\n",
       "│ dense_7 (<span style=\"color: #0087ff; text-decoration-color: #0087ff\">Dense</span>)                 │ (<span style=\"color: #00d7ff; text-decoration-color: #00d7ff\">None</span>, <span style=\"color: #00af00; text-decoration-color: #00af00\">64</span>)             │         <span style=\"color: #00af00; text-decoration-color: #00af00\">8,256</span> │\n",
       "├─────────────────────────────────┼────────────────────────┼───────────────┤\n",
       "│ dense_8 (<span style=\"color: #0087ff; text-decoration-color: #0087ff\">Dense</span>)                 │ (<span style=\"color: #00d7ff; text-decoration-color: #00d7ff\">None</span>, <span style=\"color: #00af00; text-decoration-color: #00af00\">10</span>)             │           <span style=\"color: #00af00; text-decoration-color: #00af00\">650</span> │\n",
       "└─────────────────────────────────┴────────────────────────┴───────────────┘\n",
       "</pre>\n"
      ],
      "text/plain": [
       "┏━━━━━━━━━━━━━━━━━━━━━━━━━━━━━━━━━┳━━━━━━━━━━━━━━━━━━━━━━━━┳━━━━━━━━━━━━━━━┓\n",
       "┃\u001b[1m \u001b[0m\u001b[1mLayer (type)                   \u001b[0m\u001b[1m \u001b[0m┃\u001b[1m \u001b[0m\u001b[1mOutput Shape          \u001b[0m\u001b[1m \u001b[0m┃\u001b[1m \u001b[0m\u001b[1m      Param #\u001b[0m\u001b[1m \u001b[0m┃\n",
       "┡━━━━━━━━━━━━━━━━━━━━━━━━━━━━━━━━━╇━━━━━━━━━━━━━━━━━━━━━━━━╇━━━━━━━━━━━━━━━┩\n",
       "│ dense_6 (\u001b[38;5;33mDense\u001b[0m)                 │ (\u001b[38;5;45mNone\u001b[0m, \u001b[38;5;34m128\u001b[0m)            │       \u001b[38;5;34m100,480\u001b[0m │\n",
       "├─────────────────────────────────┼────────────────────────┼───────────────┤\n",
       "│ dense_7 (\u001b[38;5;33mDense\u001b[0m)                 │ (\u001b[38;5;45mNone\u001b[0m, \u001b[38;5;34m64\u001b[0m)             │         \u001b[38;5;34m8,256\u001b[0m │\n",
       "├─────────────────────────────────┼────────────────────────┼───────────────┤\n",
       "│ dense_8 (\u001b[38;5;33mDense\u001b[0m)                 │ (\u001b[38;5;45mNone\u001b[0m, \u001b[38;5;34m10\u001b[0m)             │           \u001b[38;5;34m650\u001b[0m │\n",
       "└─────────────────────────────────┴────────────────────────┴───────────────┘\n"
      ]
     },
     "metadata": {},
     "output_type": "display_data"
    },
    {
     "data": {
      "text/html": [
       "<pre style=\"white-space:pre;overflow-x:auto;line-height:normal;font-family:Menlo,'DejaVu Sans Mono',consolas,'Courier New',monospace\"><span style=\"font-weight: bold\"> Total params: </span><span style=\"color: #00af00; text-decoration-color: #00af00\">109,386</span> (427.29 KB)\n",
       "</pre>\n"
      ],
      "text/plain": [
       "\u001b[1m Total params: \u001b[0m\u001b[38;5;34m109,386\u001b[0m (427.29 KB)\n"
      ]
     },
     "metadata": {},
     "output_type": "display_data"
    },
    {
     "data": {
      "text/html": [
       "<pre style=\"white-space:pre;overflow-x:auto;line-height:normal;font-family:Menlo,'DejaVu Sans Mono',consolas,'Courier New',monospace\"><span style=\"font-weight: bold\"> Trainable params: </span><span style=\"color: #00af00; text-decoration-color: #00af00\">109,386</span> (427.29 KB)\n",
       "</pre>\n"
      ],
      "text/plain": [
       "\u001b[1m Trainable params: \u001b[0m\u001b[38;5;34m109,386\u001b[0m (427.29 KB)\n"
      ]
     },
     "metadata": {},
     "output_type": "display_data"
    },
    {
     "data": {
      "text/html": [
       "<pre style=\"white-space:pre;overflow-x:auto;line-height:normal;font-family:Menlo,'DejaVu Sans Mono',consolas,'Courier New',monospace\"><span style=\"font-weight: bold\"> Non-trainable params: </span><span style=\"color: #00af00; text-decoration-color: #00af00\">0</span> (0.00 B)\n",
       "</pre>\n"
      ],
      "text/plain": [
       "\u001b[1m Non-trainable params: \u001b[0m\u001b[38;5;34m0\u001b[0m (0.00 B)\n"
      ]
     },
     "metadata": {},
     "output_type": "display_data"
    }
   ],
   "source": [
    "# Cell 4: Build the Neural Network Model\n",
    "model = keras.Sequential([\n",
    "    keras.layers.Dense(128, activation='relu', input_shape=(784,)),  # Hidden layer 1\n",
    "    keras.layers.Dense(64, activation='relu'),                       # Hidden layer 2\n",
    "    keras.layers.Dense(10, activation='softmax')                     # Output layer\n",
    "])\n",
    "print(\"\\nModel architecture summary:\")\n",
    "model.summary()"
   ]
  },
  {
   "cell_type": "code",
   "execution_count": 19,
   "metadata": {
    "colab": {
     "base_uri": "https://localhost:8080/"
    },
    "executionInfo": {
     "elapsed": 13,
     "status": "ok",
     "timestamp": 1749361247639,
     "user": {
      "displayName": "mohammad ahmad raza khan | AP22110010453",
      "userId": "02092888522039743913"
     },
     "user_tz": -330
    },
    "id": "phUrz1WxDkE3",
    "outputId": "2e7c1a17-43f2-4518-ebf9-31ef54be2606"
   },
   "outputs": [
    {
     "name": "stdout",
     "output_type": "stream",
     "text": [
      "\n",
      "Model compiled with optimizer='adam', loss='sparse_categorical_crossentropy', metrics=['accuracy'].\n"
     ]
    }
   ],
   "source": [
    "# Cell 5: Compile the Model\n",
    "model.compile(\n",
    "    optimizer='adam',                           # Adam optimizer\n",
    "    loss='sparse_categorical_crossentropy',     # Loss for integer labels\n",
    "    metrics=['accuracy']                        # Track accuracy\n",
    ")\n",
    "print(\"\\nModel compiled with optimizer='adam', loss='sparse_categorical_crossentropy', metrics=['accuracy'].\")"
   ]
  },
  {
   "cell_type": "code",
   "execution_count": 24,
   "metadata": {
    "colab": {
     "base_uri": "https://localhost:8080/"
    },
    "executionInfo": {
     "elapsed": 48105,
     "status": "ok",
     "timestamp": 1749361305356,
     "user": {
      "displayName": "mohammad ahmad raza khan | AP22110010453",
      "userId": "02092888522039743913"
     },
     "user_tz": -330
    },
    "id": "lONv5PoHDmYp",
    "outputId": "fd0a3fae-1b12-4972-ca79-03d6b059c9c3"
   },
   "outputs": [
    {
     "name": "stdout",
     "output_type": "stream",
     "text": [
      "Epoch 1/5\n",
      "\u001b[1m1688/1688\u001b[0m \u001b[32m━━━━━━━━━━━━━━━━━━━━\u001b[0m\u001b[37m\u001b[0m \u001b[1m1s\u001b[0m 646us/step - accuracy: 0.9988 - loss: 0.0033 - val_accuracy: 0.9813 - val_loss: 0.1617\n",
      "Epoch 2/5\n",
      "\u001b[1m1688/1688\u001b[0m \u001b[32m━━━━━━━━━━━━━━━━━━━━\u001b[0m\u001b[37m\u001b[0m \u001b[1m1s\u001b[0m 594us/step - accuracy: 0.9980 - loss: 0.0067 - val_accuracy: 0.9797 - val_loss: 0.1692\n",
      "Epoch 3/5\n",
      "\u001b[1m1688/1688\u001b[0m \u001b[32m━━━━━━━━━━━━━━━━━━━━\u001b[0m\u001b[37m\u001b[0m \u001b[1m1s\u001b[0m 592us/step - accuracy: 0.9977 - loss: 0.0079 - val_accuracy: 0.9778 - val_loss: 0.1592\n",
      "Epoch 4/5\n",
      "\u001b[1m1688/1688\u001b[0m \u001b[32m━━━━━━━━━━━━━━━━━━━━\u001b[0m\u001b[37m\u001b[0m \u001b[1m1s\u001b[0m 594us/step - accuracy: 0.9974 - loss: 0.0099 - val_accuracy: 0.9820 - val_loss: 0.1406\n",
      "Epoch 5/5\n",
      "\u001b[1m1688/1688\u001b[0m \u001b[32m━━━━━━━━━━━━━━━━━━━━\u001b[0m\u001b[37m\u001b[0m \u001b[1m1s\u001b[0m 604us/step - accuracy: 0.9984 - loss: 0.0057 - val_accuracy: 0.9800 - val_loss: 0.1637\n"
     ]
    }
   ],
   "source": [
    "# Cell 6: Train the Model\n",
    "history = model.fit(\n",
    "    x_train, y_train,\n",
    "    epochs=5,\n",
    "    batch_size=32,\n",
    "    validation_split=0.1\n",
    ")"
   ]
  },
  {
   "cell_type": "code",
   "execution_count": 16,
   "metadata": {
    "colab": {
     "base_uri": "https://localhost:8080/"
    },
    "executionInfo": {
     "elapsed": 1414,
     "status": "ok",
     "timestamp": 1749361306784,
     "user": {
      "displayName": "mohammad ahmad raza khan | AP22110010453",
      "userId": "02092888522039743913"
     },
     "user_tz": -330
    },
    "id": "3ZDEw_55DoRf",
    "outputId": "a76b1f8a-e3ab-482f-b7dd-b32155f29daa"
   },
   "outputs": [
    {
     "name": "stdout",
     "output_type": "stream",
     "text": [
      "\u001b[1m313/313\u001b[0m \u001b[32m━━━━━━━━━━━━━━━━━━━━\u001b[0m\u001b[37m\u001b[0m \u001b[1m0s\u001b[0m 630us/step - accuracy: 0.9734 - loss: 0.0956\n",
      "\n",
      "Test Loss: 0.0865\n",
      "Test Accuracy: 0.9759\n"
     ]
    }
   ],
   "source": [
    "# Cell 7: Evaluate on Test Set\n",
    "test_loss, test_acc = model.evaluate(x_test, y_test)\n",
    "print(f\"\\nTest Loss: {test_loss:.4f}\")\n",
    "print(f\"Test Accuracy: {test_acc:.4f}\")"
   ]
  },
  {
   "cell_type": "code",
   "execution_count": 17,
   "metadata": {
    "colab": {
     "base_uri": "https://localhost:8080/",
     "height": 927
    },
    "executionInfo": {
     "elapsed": 1105,
     "status": "ok",
     "timestamp": 1749361384839,
     "user": {
      "displayName": "mohammad ahmad raza khan | AP22110010453",
      "userId": "02092888522039743913"
     },
     "user_tz": -330
    },
    "id": "24GSZGF4-h75",
    "outputId": "160ccbed-4f69-40b7-b399-bf6a168ef22b"
   },
   "outputs": [
    {
     "data": {
      "image/png": "[encoded data removed]",
      "text/plain": [
       "<Figure size 640x480 with 1 Axes>"
      ]
     },
     "metadata": {},
     "output_type": "display_data"
    },
    {
     "data": {
      "image/png": "[encoded data removed]",
      "text/plain": [
       "<Figure size 640x480 with 1 Axes>"
      ]
     },
     "metadata": {},
     "output_type": "display_data"
    }
   ],
   "source": [
    "# Cell 8: Plot Training History Metrics\n",
    "acc = history.history['accuracy']\n",
    "val_acc = history.history['val_accuracy']\n",
    "loss = history.history['loss']\n",
    "val_loss = history.history['val_loss']\n",
    "epochs_range = range(1, len(acc) + 1)\n",
    "\n",
    "plt.figure()\n",
    "plt.plot(epochs_range, acc, label='Training Accuracy')\n",
    "plt.plot(epochs_range, val_acc, label='Validation Accuracy')\n",
    "plt.title('Training and Validation Accuracy')\n",
    "plt.xlabel('Epoch')\n",
    "plt.ylabel('Accuracy')\n",
    "plt.legend()\n",
    "plt.show()\n",
    "\n",
    "plt.figure()\n",
    "plt.plot(epochs_range, loss, label='Training Loss')\n",
    "plt.plot(epochs_range, val_loss, label='Validation Loss')\n",
    "plt.title('Training and Validation Loss')\n",
    "plt.xlabel('Epoch')\n",
    "plt.ylabel('Loss')\n",
    "plt.legend()\n",
    "plt.show()"
   ]
  },
  {
   "cell_type": "code",
   "execution_count": null,
   "metadata": {
    "id": "EVZU2T_pEFdk"
   },
   "outputs": [],
   "source": []
  },
  {
   "cell_type": "code",
   "execution_count": null,
   "metadata": {},
   "outputs": [],
   "source": []
  }
 ],
 "metadata": {
  "colab": {
   "authorship_tag": "ABX9TyNCb1KsFEKM5PHIoMvX0ChW",
   "provenance": []
  },
  "kernelspec": {
   "display_name": "Python 3",
   "name": "python3"
  },
  "language_info": {
   "codemirror_mode": {
    "name": "ipython",
    "version": 3
   },
   "file_extension": ".py",
   "mimetype": "text/x-python",
   "name": "python",
   "nbconvert_exporter": "python",
   "pygments_lexer": "ipython3",
   "version": "3.10.11"
  }
 },
 "nbformat": 4,
 "nbformat_minor": 0
}
