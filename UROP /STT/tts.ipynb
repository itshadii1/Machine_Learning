{
 "cells": [
  {
   "cell_type": "code",
   "execution_count": null,
   "id": "ec2afe64",
   "metadata": {},
   "outputs": [
    {
     "name": "stdout",
     "output_type": "stream",
     "text": [
      "Adjusting for ambient noise... Please wait.\n",
      "Say something! I'm listening...\n",
      "Recognizing...\n",
      "You said: hello hello 123\n"
     ]
    }
   ],
   "source": [
    "import speech_recognition as sr\n",
    "\n",
    "r = sr.Recognizer()\n",
    "\n",
    "# microphone as the audio source\n",
    "with sr.Microphone() as source:\n",
    "    print(\"Adjusting for ambient noise... Please wait.\")\n",
    "    # Listen for 0.5 second to adjust for ambient noise\n",
    "    r.adjust_for_ambient_noise(source, duration=0.5)\n",
    "    \n",
    "    print(\"Say something! I'm listening...\")\n",
    "    \n",
    "    try:\n",
    "        # Listen \n",
    "        audio = r.listen(source)\n",
    "        \n",
    "        print(\"Recognizing...\")\n",
    "        \n",
    "        text = r.recognize_google(audio)\n",
    "        \n",
    "        print(f\"You said: {text}\")\n",
    "\n",
    "    except sr.UnknownValueError:\n",
    "        print(\"Sorry, I could not understand what you said.\")\n",
    "        \n",
    "    except sr.RequestError as e:\n",
    "        print(f\"Could not request results from Google Speech Recognition service; {e}\")\n",
    "\n",
    "    except Exception as e:\n",
    "        print(f\"An error occurred: {e}\")"
   ]
  },
  {
   "cell_type": "markdown",
   "id": "81437150",
   "metadata": {},
   "source": []
  }
 ],
 "metadata": {
  "kernelspec": {
   "display_name": ".venv",
   "language": "python",
   "name": "python3"
  },
  "language_info": {
   "codemirror_mode": {
    "name": "ipython",
    "version": 3
   },
   "file_extension": ".py",
   "mimetype": "text/x-python",
   "name": "python",
   "nbconvert_exporter": "python",
   "pygments_lexer": "ipython3",
   "version": "3.10.11"
  }
 },
 "nbformat": 4,
 "nbformat_minor": 5
}
