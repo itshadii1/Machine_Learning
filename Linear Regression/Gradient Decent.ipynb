{
 "cells": [
  {
   "cell_type": "markdown",
   "id": "a8756f30",
   "metadata": {},
   "source": [
    "## Descent Gradient\n",
    "\n",
    "#### What is Descent Gradient?\n",
    "\n",
    "Gradient descent is an optimization algorithm used to minimize the cost function by iteratively adjusting the parameters (w and b) in the direction of the steepest descent.\n",
    "\n",
    "#### Mathematical Expressions\n",
    "\n",
    "                𝑓𝑤,𝑏(𝑥(𝑖))=𝑤𝑥(𝑖)+𝑏    --(1)\n",
    "                    \n",
    "                𝐽(𝑤,𝑏)=1/2𝑚*(i=0,m-1 ∑ [𝑓𝑤,𝑏(𝑥(𝑖))−𝑦(𝑖)]^2)    --(2)\n",
    "                    \n",
    "                𝑤 = 𝑤 − 𝛼*[∂𝐽(𝑤,𝑏)/∂𝑤]    --(3)\n",
    "                    \n",
    "                𝑏 = 𝑏 − 𝛼*[∂𝐽(𝑤,𝑏)/∂𝑏]     --(4)\n",
    "                    \n",
    "                [∂𝐽(𝑤,𝑏)/∂𝑤] = (1/𝑚) * i=0,m-1 ∑[(𝑓𝑤,𝑏(𝑥(𝑖))−𝑦(𝑖))*𝑥(𝑖)]    --(5)\n",
    "                \n",
    "                [∂𝐽(𝑤,𝑏)/∂b] = (1/𝑚) * i=0,m-1 ∑[𝑓𝑤,𝑏(𝑥(𝑖))−𝑦(𝑖)]    --(6)\n",
    "                \n",
    "                \n",
    "                (1) - Predicted y\n",
    "                (2) - Cost function\n",
    "                (3) - w parameter is updated simultaneously\n",
    "                (4) - b parameter is updated simultaneously\n",
    "                (5) - Partial derivative of w\n",
    "                (6) - Partial derivative of b\n",
    "                \n",
    "                Where,\n",
    "                        a - learning rate"
   ]
  },
  {
   "cell_type": "code",
   "execution_count": 28,
   "id": "b6591cf5",
   "metadata": {},
   "outputs": [],
   "source": [
    "import numpy as np\n",
    "import matplotlib.pyplot as plt"
   ]
  },
  {
   "cell_type": "code",
   "execution_count": 29,
   "id": "e5bca777",
   "metadata": {},
   "outputs": [],
   "source": [
    "x = np.array([1.0, 1.7, 2.0, 2.5, 3.0, 3.2])\n",
    "y = np.array([250, 300, 480, 430, 630, 730])"
   ]
  },
  {
   "cell_type": "code",
   "execution_count": 30,
   "id": "aedbf9f8",
   "metadata": {},
   "outputs": [
    {
     "data": {
      "image/png": "[encoded data removed]",
      "text/plain": [
       "<Figure size 640x480 with 1 Axes>"
      ]
     },
     "metadata": {},
     "output_type": "display_data"
    }
   ],
   "source": [
    "plt.scatter(x,y)\n",
    "plt.show()"
   ]
  },
  {
   "cell_type": "code",
   "execution_count": null,
   "id": "a1eb29f6",
   "metadata": {},
   "outputs": [],
   "source": [
    "### Computing Gradient"
   ]
  },
  {
   "cell_type": "code",
   "execution_count": 31,
   "id": "a26288fc",
   "metadata": {},
   "outputs": [],
   "source": [
    "def gradient_function(x,y,w,b):\n",
    "    \n",
    "    m=x.shape[0]\n",
    "    pred_y=np.zeros(m)\n",
    "    \n",
    "    for i in range(m):\n",
    "        pred_y[i] = w*x[i]+b\n",
    "     \n",
    "    dj_dw = 0\n",
    "    dj_db = 0\n",
    "    \n",
    "    for i in range(m):\n",
    "        dj_dw_i = (pred_y[i]-y[i])*x[i]\n",
    "        dj_db_i = (pred_y[i]-y[i])\n",
    "        dj_dw += dj_dw_i\n",
    "        dj_db += dj_db_i\n",
    "        \n",
    "    dj_dw = dj_dw/m\n",
    "    dj_db = dj_db/m\n",
    "    \n",
    "    return dj_dw, dj_db"
   ]
  },
  {
   "cell_type": "code",
   "execution_count": 32,
   "id": "6a8cd844",
   "metadata": {},
   "outputs": [
    {
     "name": "stdout",
     "output_type": "stream",
     "text": [
      "Gradient for w: -1170.1666666666667 and Gradient for b: -470.0\n"
     ]
    }
   ],
   "source": [
    "w=0\n",
    "b=0\n",
    "\n",
    "dw, db = gradient_function(x,y,w,b)\n",
    "\n",
    "print(f\"Gradient for w: {dw} and Gradient for b: {db}\")"
   ]
  },
  {
   "cell_type": "code",
   "execution_count": 33,
   "id": "98cb22ce",
   "metadata": {},
   "outputs": [],
   "source": [
    "### Computing Gradient Descent"
   ]
  },
  {
   "cell_type": "code",
   "execution_count": 34,
   "id": "df7b558c",
   "metadata": {},
   "outputs": [],
   "source": [
    "def cost_function(x,y,w,b):\n",
    "    \n",
    "    m = x.shape[0] #size of array\n",
    "    cost_sum = 0\n",
    "    \n",
    "    for i in range(m):\n",
    "        f_wb = w*x[i]+b\n",
    "        cost = (f_wb-y[i])**2\n",
    "        cost_sum = cost_sum+cost\n",
    "        \n",
    "    total_cost = (1/(2*m))*cost_sum\n",
    "    \n",
    "    return total_cost"
   ]
  },
  {
   "cell_type": "code",
   "execution_count": 35,
   "id": "ee601244",
   "metadata": {},
   "outputs": [],
   "source": [
    "def gradient_descent(x,y,w_in,b_in,a,num,gradient_function):\n",
    "    w=w_in\n",
    "    b=b_in\n",
    "    \n",
    "    for i in range(num):\n",
    "        dj_dw, dj_db = gradient_function(x,y,w,b)\n",
    "        \n",
    "        #values of w and b are constantly updated\n",
    "        w=w-a*dj_dw \n",
    "        b=b-a*dj_db\n",
    "        \n",
    "    return w,b"
   ]
  },
  {
   "cell_type": "code",
   "execution_count": 36,
   "id": "4a018d0d",
   "metadata": {},
   "outputs": [
    {
     "name": "stdout",
     "output_type": "stream",
     "text": [
      "New value of w: 182.53453345671545\n",
      "New value of b: 67.40692553091009\n"
     ]
    }
   ],
   "source": [
    "a = 0.001 #learning rate\n",
    "num = 1000 #number of iterations\n",
    "\n",
    "new_w, new_b = gradient_descent(x,y,w,b,a,num, gradient_function)\n",
    "\n",
    "print(f\"New value of w: {new_w}\")\n",
    "print(f\"New value of b: {new_b}\")"
   ]
  },
  {
   "cell_type": "code",
   "execution_count": 37,
   "id": "f2dc498f",
   "metadata": {},
   "outputs": [
    {
     "name": "stdout",
     "output_type": "stream",
     "text": [
      "Cost function with initial values of w and b: 124800.0\n",
      "Cost function with new values of w and b: 1955.8542168868646\n"
     ]
    }
   ],
   "source": [
    "old_cost = cost_function(x,y,w,b)\n",
    "new_cost = cost_function(x,y,new_w, new_b)\n",
    "\n",
    "print(f\"Cost function with initial values of w and b: {old_cost}\")\n",
    "print(f\"Cost function with new values of w and b: {new_cost}\")"
   ]
  },
  {
   "cell_type": "code",
   "execution_count": 38,
   "id": "2929c7c7",
   "metadata": {},
   "outputs": [],
   "source": [
    "m=x.shape[0]\n",
    "new_pred_y = np.zeros(m)\n",
    "\n",
    "for i in range(m):\n",
    "    new_pred_y[i] = new_w * x[i] + new_b"
   ]
  },
  {
   "cell_type": "code",
   "execution_count": 39,
   "id": "89fdb35a",
   "metadata": {},
   "outputs": [
    {
     "ename": "NameError",
     "evalue": "name 'pred_y' is not defined",
     "output_type": "error",
     "traceback": [
      "\u001b[0;31m---------------------------------------------------------------------------\u001b[0m",
      "\u001b[0;31mNameError\u001b[0m                                 Traceback (most recent call last)",
      "Cell \u001b[0;32mIn[39], line 1\u001b[0m\n\u001b[0;32m----> 1\u001b[0m plt\u001b[38;5;241m.\u001b[39mplot(x,\u001b[43mpred_y\u001b[49m)\n\u001b[1;32m      2\u001b[0m plt\u001b[38;5;241m.\u001b[39mtitle(\u001b[38;5;124m'\u001b[39m\u001b[38;5;124mLinear Regression model with initial values of m and b\u001b[39m\u001b[38;5;124m'\u001b[39m)\n\u001b[1;32m      3\u001b[0m plt\u001b[38;5;241m.\u001b[39mxlabel(\u001b[38;5;124m'\u001b[39m\u001b[38;5;124mActual values of x\u001b[39m\u001b[38;5;124m'\u001b[39m)\n",
      "\u001b[0;31mNameError\u001b[0m: name 'pred_y' is not defined"
     ]
    }
   ],
   "source": [
    "plt.plot(x,pred_y)\n",
    "plt.title('Linear Regression model with initial values of m and b')\n",
    "plt.xlabel('Actual values of x')\n",
    "plt.ylabel('Predicted values of y')\n",
    "plt.show()"
   ]
  },
  {
   "cell_type": "code",
   "execution_count": 40,
   "id": "ea44fdc2",
   "metadata": {},
   "outputs": [
    {
     "data": {
      "image/png": "[encoded data removed]",
      "text/plain": [
       "<Figure size 640x480 with 1 Axes>"
      ]
     },
     "metadata": {},
     "output_type": "display_data"
    }
   ],
   "source": [
    "plt.scatter(x,y)\n",
    "plt.plot(x,new_pred_y)\n",
    "plt.title('Linear Regression model with final values of m and b')\n",
    "plt.xlabel('Actual values of x')\n",
    "plt.ylabel('Predicted values of y')\n",
    "plt.show()"
   ]
  },
  {
   "cell_type": "code",
   "execution_count": null,
   "id": "50b1b203",
   "metadata": {},
   "outputs": [],
   "source": []
  }
 ],
 "metadata": {
  "language_info": {
   "name": "python"
  }
 },
 "nbformat": 4,
 "nbformat_minor": 5
}
